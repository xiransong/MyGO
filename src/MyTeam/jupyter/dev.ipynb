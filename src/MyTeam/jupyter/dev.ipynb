{
 "cells": [
  {
   "cell_type": "code",
   "execution_count": 1,
   "id": "c397b424-272d-499e-af69-50f35335b5d3",
   "metadata": {
    "execution": {
     "iopub.execute_input": "2024-12-15T05:02:48.615446Z",
     "iopub.status.busy": "2024-12-15T05:02:48.614719Z",
     "iopub.status.idle": "2024-12-15T05:02:48.625208Z",
     "shell.execute_reply": "2024-12-15T05:02:48.624402Z",
     "shell.execute_reply.started": "2024-12-15T05:02:48.615387Z"
    }
   },
   "outputs": [],
   "source": [
    "import os.path as osp\n",
    "\n",
    "project_root = \"/Users/xiransong/Code/MyTeam_Project/\"\n",
    "all_data_root = osp.join(project_root, \"data\")"
   ]
  },
  {
   "cell_type": "code",
   "execution_count": 2,
   "id": "afebf86b-3a14-403f-b8be-fed753144699",
   "metadata": {
    "execution": {
     "iopub.execute_input": "2024-12-15T05:02:55.292185Z",
     "iopub.status.busy": "2024-12-15T05:02:55.291506Z",
     "iopub.status.idle": "2024-12-15T05:02:55.300825Z",
     "shell.execute_reply": "2024-12-15T05:02:55.300097Z",
     "shell.execute_reply.started": "2024-12-15T05:02:55.292128Z"
    }
   },
   "outputs": [],
   "source": [
    "from MyTeam.utils import ensure_dir"
   ]
  },
  {
   "cell_type": "code",
   "execution_count": 18,
   "id": "db85ccf1-a329-4a64-a16b-5d2d86c6d5bd",
   "metadata": {
    "execution": {
     "iopub.execute_input": "2024-12-15T05:09:58.370547Z",
     "iopub.status.busy": "2024-12-15T05:09:58.369919Z",
     "iopub.status.idle": "2024-12-15T05:09:58.376156Z",
     "shell.execute_reply": "2024-12-15T05:09:58.375101Z",
     "shell.execute_reply.started": "2024-12-15T05:09:58.370502Z"
    }
   },
   "outputs": [],
   "source": [
    "import numpy as np\n",
    "import pandas as pd"
   ]
  },
  {
   "cell_type": "code",
   "execution_count": 33,
   "id": "60b2e3e9-f3b4-41cf-bfdf-9e3808bcafc8",
   "metadata": {
    "execution": {
     "iopub.execute_input": "2024-12-15T06:05:13.990781Z",
     "iopub.status.busy": "2024-12-15T06:05:13.990028Z",
     "iopub.status.idle": "2024-12-15T06:05:14.001208Z",
     "shell.execute_reply": "2024-12-15T06:05:14.000271Z",
     "shell.execute_reply.started": "2024-12-15T06:05:13.990720Z"
    },
    "scrolled": true
   },
   "outputs": [
    {
     "name": "stdout",
     "output_type": "stream",
     "text": [
      "Help on function read_csv in module pandas.io.parsers.readers:\n",
      "\n",
      "read_csv(filepath_or_buffer: 'FilePath | ReadCsvBuffer[bytes] | ReadCsvBuffer[str]', *, sep: 'str | None | lib.NoDefault' = <no_default>, delimiter: 'str | None | lib.NoDefault' = None, header: \"int | Sequence[int] | None | Literal['infer']\" = 'infer', names: 'Sequence[Hashable] | None | lib.NoDefault' = <no_default>, index_col: 'IndexLabel | Literal[False] | None' = None, usecols: 'UsecolsArgType' = None, dtype: 'DtypeArg | None' = None, engine: 'CSVEngine | None' = None, converters: 'Mapping[Hashable, Callable] | None' = None, true_values: 'list | None' = None, false_values: 'list | None' = None, skipinitialspace: 'bool' = False, skiprows: 'list[int] | int | Callable[[Hashable], bool] | None' = None, skipfooter: 'int' = 0, nrows: 'int | None' = None, na_values: 'Hashable | Iterable[Hashable] | Mapping[Hashable, Iterable[Hashable]] | None' = None, keep_default_na: 'bool' = True, na_filter: 'bool' = True, verbose: 'bool | lib.NoDefault' = <no_default>, skip_blank_lines: 'bool' = True, parse_dates: 'bool | Sequence[Hashable] | None' = None, infer_datetime_format: 'bool | lib.NoDefault' = <no_default>, keep_date_col: 'bool | lib.NoDefault' = <no_default>, date_parser: 'Callable | lib.NoDefault' = <no_default>, date_format: 'str | dict[Hashable, str] | None' = None, dayfirst: 'bool' = False, cache_dates: 'bool' = True, iterator: 'bool' = False, chunksize: 'int | None' = None, compression: 'CompressionOptions' = 'infer', thousands: 'str | None' = None, decimal: 'str' = '.', lineterminator: 'str | None' = None, quotechar: 'str' = '\"', quoting: 'int' = 0, doublequote: 'bool' = True, escapechar: 'str | None' = None, comment: 'str | None' = None, encoding: 'str | None' = None, encoding_errors: 'str | None' = 'strict', dialect: 'str | csv.Dialect | None' = None, on_bad_lines: 'str' = 'error', delim_whitespace: 'bool | lib.NoDefault' = <no_default>, low_memory: 'bool' = True, memory_map: 'bool' = False, float_precision: \"Literal['high', 'legacy'] | None\" = None, storage_options: 'StorageOptions | None' = None, dtype_backend: 'DtypeBackend | lib.NoDefault' = <no_default>) -> 'DataFrame | TextFileReader'\n",
      "    Read a comma-separated values (csv) file into DataFrame.\n",
      "    \n",
      "    Also supports optionally iterating or breaking of the file\n",
      "    into chunks.\n",
      "    \n",
      "    Additional help can be found in the online docs for\n",
      "    `IO Tools <https://pandas.pydata.org/pandas-docs/stable/user_guide/io.html>`_.\n",
      "    \n",
      "    Parameters\n",
      "    ----------\n",
      "    filepath_or_buffer : str, path object or file-like object\n",
      "        Any valid string path is acceptable. The string could be a URL. Valid\n",
      "        URL schemes include http, ftp, s3, gs, and file. For file URLs, a host is\n",
      "        expected. A local file could be: file://localhost/path/to/table.csv.\n",
      "    \n",
      "        If you want to pass in a path object, pandas accepts any ``os.PathLike``.\n",
      "    \n",
      "        By file-like object, we refer to objects with a ``read()`` method, such as\n",
      "        a file handle (e.g. via builtin ``open`` function) or ``StringIO``.\n",
      "    sep : str, default ','\n",
      "        Character or regex pattern to treat as the delimiter. If ``sep=None``, the\n",
      "        C engine cannot automatically detect\n",
      "        the separator, but the Python parsing engine can, meaning the latter will\n",
      "        be used and automatically detect the separator from only the first valid\n",
      "        row of the file by Python's builtin sniffer tool, ``csv.Sniffer``.\n",
      "        In addition, separators longer than 1 character and different from\n",
      "        ``'\\s+'`` will be interpreted as regular expressions and will also force\n",
      "        the use of the Python parsing engine. Note that regex delimiters are prone\n",
      "        to ignoring quoted data. Regex example: ``'\\r\\t'``.\n",
      "    delimiter : str, optional\n",
      "        Alias for ``sep``.\n",
      "    header : int, Sequence of int, 'infer' or None, default 'infer'\n",
      "        Row number(s) containing column labels and marking the start of the\n",
      "        data (zero-indexed). Default behavior is to infer the column names: if no ``names``\n",
      "        are passed the behavior is identical to ``header=0`` and column\n",
      "        names are inferred from the first line of the file, if column\n",
      "        names are passed explicitly to ``names`` then the behavior is identical to\n",
      "        ``header=None``. Explicitly pass ``header=0`` to be able to\n",
      "        replace existing names. The header can be a list of integers that\n",
      "        specify row locations for a :class:`~pandas.MultiIndex` on the columns\n",
      "        e.g. ``[0, 1, 3]``. Intervening rows that are not specified will be\n",
      "        skipped (e.g. 2 in this example is skipped). Note that this\n",
      "        parameter ignores commented lines and empty lines if\n",
      "        ``skip_blank_lines=True``, so ``header=0`` denotes the first line of\n",
      "        data rather than the first line of the file.\n",
      "    names : Sequence of Hashable, optional\n",
      "        Sequence of column labels to apply. If the file contains a header row,\n",
      "        then you should explicitly pass ``header=0`` to override the column names.\n",
      "        Duplicates in this list are not allowed.\n",
      "    index_col : Hashable, Sequence of Hashable or False, optional\n",
      "      Column(s) to use as row label(s), denoted either by column labels or column\n",
      "      indices.  If a sequence of labels or indices is given, :class:`~pandas.MultiIndex`\n",
      "      will be formed for the row labels.\n",
      "    \n",
      "      Note: ``index_col=False`` can be used to force pandas to *not* use the first\n",
      "      column as the index, e.g., when you have a malformed file with delimiters at\n",
      "      the end of each line.\n",
      "    usecols : Sequence of Hashable or Callable, optional\n",
      "        Subset of columns to select, denoted either by column labels or column indices.\n",
      "        If list-like, all elements must either\n",
      "        be positional (i.e. integer indices into the document columns) or strings\n",
      "        that correspond to column names provided either by the user in ``names`` or\n",
      "        inferred from the document header row(s). If ``names`` are given, the document\n",
      "        header row(s) are not taken into account. For example, a valid list-like\n",
      "        ``usecols`` parameter would be ``[0, 1, 2]`` or ``['foo', 'bar', 'baz']``.\n",
      "        Element order is ignored, so ``usecols=[0, 1]`` is the same as ``[1, 0]``.\n",
      "        To instantiate a :class:`~pandas.DataFrame` from ``data`` with element order\n",
      "        preserved use ``pd.read_csv(data, usecols=['foo', 'bar'])[['foo', 'bar']]``\n",
      "        for columns in ``['foo', 'bar']`` order or\n",
      "        ``pd.read_csv(data, usecols=['foo', 'bar'])[['bar', 'foo']]``\n",
      "        for ``['bar', 'foo']`` order.\n",
      "    \n",
      "        If callable, the callable function will be evaluated against the column\n",
      "        names, returning names where the callable function evaluates to ``True``. An\n",
      "        example of a valid callable argument would be ``lambda x: x.upper() in\n",
      "        ['AAA', 'BBB', 'DDD']``. Using this parameter results in much faster\n",
      "        parsing time and lower memory usage.\n",
      "    dtype : dtype or dict of {Hashable : dtype}, optional\n",
      "        Data type(s) to apply to either the whole dataset or individual columns.\n",
      "        E.g., ``{'a': np.float64, 'b': np.int32, 'c': 'Int64'}``\n",
      "        Use ``str`` or ``object`` together with suitable ``na_values`` settings\n",
      "        to preserve and not interpret ``dtype``.\n",
      "        If ``converters`` are specified, they will be applied INSTEAD\n",
      "        of ``dtype`` conversion.\n",
      "    \n",
      "        .. versionadded:: 1.5.0\n",
      "    \n",
      "            Support for ``defaultdict`` was added. Specify a ``defaultdict`` as input where\n",
      "            the default determines the ``dtype`` of the columns which are not explicitly\n",
      "            listed.\n",
      "    engine : {'c', 'python', 'pyarrow'}, optional\n",
      "        Parser engine to use. The C and pyarrow engines are faster, while the python engine\n",
      "        is currently more feature-complete. Multithreading is currently only supported by\n",
      "        the pyarrow engine.\n",
      "    \n",
      "        .. versionadded:: 1.4.0\n",
      "    \n",
      "            The 'pyarrow' engine was added as an *experimental* engine, and some features\n",
      "            are unsupported, or may not work correctly, with this engine.\n",
      "    converters : dict of {Hashable : Callable}, optional\n",
      "        Functions for converting values in specified columns. Keys can either\n",
      "        be column labels or column indices.\n",
      "    true_values : list, optional\n",
      "        Values to consider as ``True`` in addition to case-insensitive variants of 'True'.\n",
      "    false_values : list, optional\n",
      "        Values to consider as ``False`` in addition to case-insensitive variants of 'False'.\n",
      "    skipinitialspace : bool, default False\n",
      "        Skip spaces after delimiter.\n",
      "    skiprows : int, list of int or Callable, optional\n",
      "        Line numbers to skip (0-indexed) or number of lines to skip (``int``)\n",
      "        at the start of the file.\n",
      "    \n",
      "        If callable, the callable function will be evaluated against the row\n",
      "        indices, returning ``True`` if the row should be skipped and ``False`` otherwise.\n",
      "        An example of a valid callable argument would be ``lambda x: x in [0, 2]``.\n",
      "    skipfooter : int, default 0\n",
      "        Number of lines at bottom of file to skip (Unsupported with ``engine='c'``).\n",
      "    nrows : int, optional\n",
      "        Number of rows of file to read. Useful for reading pieces of large files.\n",
      "    na_values : Hashable, Iterable of Hashable or dict of {Hashable : Iterable}, optional\n",
      "        Additional strings to recognize as ``NA``/``NaN``. If ``dict`` passed, specific\n",
      "        per-column ``NA`` values.  By default the following values are interpreted as\n",
      "        ``NaN``: \" \", \"#N/A\", \"#N/A N/A\", \"#NA\", \"-1.#IND\", \"-1.#QNAN\", \"-NaN\", \"-nan\",\n",
      "        \"1.#IND\", \"1.#QNAN\", \"<NA>\", \"N/A\", \"NA\", \"NULL\", \"NaN\", \"None\",\n",
      "        \"n/a\", \"nan\", \"null \".\n",
      "    \n",
      "    keep_default_na : bool, default True\n",
      "        Whether or not to include the default ``NaN`` values when parsing the data.\n",
      "        Depending on whether ``na_values`` is passed in, the behavior is as follows:\n",
      "    \n",
      "        * If ``keep_default_na`` is ``True``, and ``na_values`` are specified, ``na_values``\n",
      "          is appended to the default ``NaN`` values used for parsing.\n",
      "        * If ``keep_default_na`` is ``True``, and ``na_values`` are not specified, only\n",
      "          the default ``NaN`` values are used for parsing.\n",
      "        * If ``keep_default_na`` is ``False``, and ``na_values`` are specified, only\n",
      "          the ``NaN`` values specified ``na_values`` are used for parsing.\n",
      "        * If ``keep_default_na`` is ``False``, and ``na_values`` are not specified, no\n",
      "          strings will be parsed as ``NaN``.\n",
      "    \n",
      "        Note that if ``na_filter`` is passed in as ``False``, the ``keep_default_na`` and\n",
      "        ``na_values`` parameters will be ignored.\n",
      "    na_filter : bool, default True\n",
      "        Detect missing value markers (empty strings and the value of ``na_values``). In\n",
      "        data without any ``NA`` values, passing ``na_filter=False`` can improve the\n",
      "        performance of reading a large file.\n",
      "    verbose : bool, default False\n",
      "        Indicate number of ``NA`` values placed in non-numeric columns.\n",
      "    \n",
      "        .. deprecated:: 2.2.0\n",
      "    skip_blank_lines : bool, default True\n",
      "        If ``True``, skip over blank lines rather than interpreting as ``NaN`` values.\n",
      "    parse_dates : bool, list of Hashable, list of lists or dict of {Hashable : list}, default False\n",
      "        The behavior is as follows:\n",
      "    \n",
      "        * ``bool``. If ``True`` -> try parsing the index. Note: Automatically set to\n",
      "          ``True`` if ``date_format`` or ``date_parser`` arguments have been passed.\n",
      "        * ``list`` of ``int`` or names. e.g. If ``[1, 2, 3]`` -> try parsing columns 1, 2, 3\n",
      "          each as a separate date column.\n",
      "        * ``list`` of ``list``. e.g.  If ``[[1, 3]]`` -> combine columns 1 and 3 and parse\n",
      "          as a single date column. Values are joined with a space before parsing.\n",
      "        * ``dict``, e.g. ``{'foo' : [1, 3]}`` -> parse columns 1, 3 as date and call\n",
      "          result 'foo'. Values are joined with a space before parsing.\n",
      "    \n",
      "        If a column or index cannot be represented as an array of ``datetime``,\n",
      "        say because of an unparsable value or a mixture of timezones, the column\n",
      "        or index will be returned unaltered as an ``object`` data type. For\n",
      "        non-standard ``datetime`` parsing, use :func:`~pandas.to_datetime` after\n",
      "        :func:`~pandas.read_csv`.\n",
      "    \n",
      "        Note: A fast-path exists for iso8601-formatted dates.\n",
      "    infer_datetime_format : bool, default False\n",
      "        If ``True`` and ``parse_dates`` is enabled, pandas will attempt to infer the\n",
      "        format of the ``datetime`` strings in the columns, and if it can be inferred,\n",
      "        switch to a faster method of parsing them. In some cases this can increase\n",
      "        the parsing speed by 5-10x.\n",
      "    \n",
      "        .. deprecated:: 2.0.0\n",
      "            A strict version of this argument is now the default, passing it has no effect.\n",
      "    \n",
      "    keep_date_col : bool, default False\n",
      "        If ``True`` and ``parse_dates`` specifies combining multiple columns then\n",
      "        keep the original columns.\n",
      "    date_parser : Callable, optional\n",
      "        Function to use for converting a sequence of string columns to an array of\n",
      "        ``datetime`` instances. The default uses ``dateutil.parser.parser`` to do the\n",
      "        conversion. pandas will try to call ``date_parser`` in three different ways,\n",
      "        advancing to the next if an exception occurs: 1) Pass one or more arrays\n",
      "        (as defined by ``parse_dates``) as arguments; 2) concatenate (row-wise) the\n",
      "        string values from the columns defined by ``parse_dates`` into a single array\n",
      "        and pass that; and 3) call ``date_parser`` once for each row using one or\n",
      "        more strings (corresponding to the columns defined by ``parse_dates``) as\n",
      "        arguments.\n",
      "    \n",
      "        .. deprecated:: 2.0.0\n",
      "           Use ``date_format`` instead, or read in as ``object`` and then apply\n",
      "           :func:`~pandas.to_datetime` as-needed.\n",
      "    date_format : str or dict of column -> format, optional\n",
      "        Format to use for parsing dates when used in conjunction with ``parse_dates``.\n",
      "        The strftime to parse time, e.g. :const:`\"%d/%m/%Y\"`. See\n",
      "        `strftime documentation\n",
      "        <https://docs.python.org/3/library/datetime.html\n",
      "        #strftime-and-strptime-behavior>`_ for more information on choices, though\n",
      "        note that :const:`\"%f\"` will parse all the way up to nanoseconds.\n",
      "        You can also pass:\n",
      "    \n",
      "        - \"ISO8601\", to parse any `ISO8601 <https://en.wikipedia.org/wiki/ISO_8601>`_\n",
      "            time string (not necessarily in exactly the same format);\n",
      "        - \"mixed\", to infer the format for each element individually. This is risky,\n",
      "            and you should probably use it along with `dayfirst`.\n",
      "    \n",
      "        .. versionadded:: 2.0.0\n",
      "    dayfirst : bool, default False\n",
      "        DD/MM format dates, international and European format.\n",
      "    cache_dates : bool, default True\n",
      "        If ``True``, use a cache of unique, converted dates to apply the ``datetime``\n",
      "        conversion. May produce significant speed-up when parsing duplicate\n",
      "        date strings, especially ones with timezone offsets.\n",
      "    \n",
      "    iterator : bool, default False\n",
      "        Return ``TextFileReader`` object for iteration or getting chunks with\n",
      "        ``get_chunk()``.\n",
      "    chunksize : int, optional\n",
      "        Number of lines to read from the file per chunk. Passing a value will cause the\n",
      "        function to return a ``TextFileReader`` object for iteration.\n",
      "        See the `IO Tools docs\n",
      "        <https://pandas.pydata.org/pandas-docs/stable/io.html#io-chunking>`_\n",
      "        for more information on ``iterator`` and ``chunksize``.\n",
      "    \n",
      "    compression : str or dict, default 'infer'\n",
      "        For on-the-fly decompression of on-disk data. If 'infer' and 'filepath_or_buffer' is\n",
      "        path-like, then detect compression from the following extensions: '.gz',\n",
      "        '.bz2', '.zip', '.xz', '.zst', '.tar', '.tar.gz', '.tar.xz' or '.tar.bz2'\n",
      "        (otherwise no compression).\n",
      "        If using 'zip' or 'tar', the ZIP file must contain only one data file to be read in.\n",
      "        Set to ``None`` for no decompression.\n",
      "        Can also be a dict with key ``'method'`` set\n",
      "        to one of {``'zip'``, ``'gzip'``, ``'bz2'``, ``'zstd'``, ``'xz'``, ``'tar'``} and\n",
      "        other key-value pairs are forwarded to\n",
      "        ``zipfile.ZipFile``, ``gzip.GzipFile``,\n",
      "        ``bz2.BZ2File``, ``zstandard.ZstdDecompressor``, ``lzma.LZMAFile`` or\n",
      "        ``tarfile.TarFile``, respectively.\n",
      "        As an example, the following could be passed for Zstandard decompression using a\n",
      "        custom compression dictionary:\n",
      "        ``compression={'method': 'zstd', 'dict_data': my_compression_dict}``.\n",
      "    \n",
      "        .. versionadded:: 1.5.0\n",
      "            Added support for `.tar` files.\n",
      "    \n",
      "        .. versionchanged:: 1.4.0 Zstandard support.\n",
      "    \n",
      "    thousands : str (length 1), optional\n",
      "        Character acting as the thousands separator in numerical values.\n",
      "    decimal : str (length 1), default '.'\n",
      "        Character to recognize as decimal point (e.g., use ',' for European data).\n",
      "    lineterminator : str (length 1), optional\n",
      "        Character used to denote a line break. Only valid with C parser.\n",
      "    quotechar : str (length 1), optional\n",
      "        Character used to denote the start and end of a quoted item. Quoted\n",
      "        items can include the ``delimiter`` and it will be ignored.\n",
      "    quoting : {0 or csv.QUOTE_MINIMAL, 1 or csv.QUOTE_ALL, 2 or csv.QUOTE_NONNUMERIC, 3 or csv.QUOTE_NONE}, default csv.QUOTE_MINIMAL\n",
      "        Control field quoting behavior per ``csv.QUOTE_*`` constants. Default is\n",
      "        ``csv.QUOTE_MINIMAL`` (i.e., 0) which implies that only fields containing special\n",
      "        characters are quoted (e.g., characters defined in ``quotechar``, ``delimiter``,\n",
      "        or ``lineterminator``.\n",
      "    doublequote : bool, default True\n",
      "       When ``quotechar`` is specified and ``quoting`` is not ``QUOTE_NONE``, indicate\n",
      "       whether or not to interpret two consecutive ``quotechar`` elements INSIDE a\n",
      "       field as a single ``quotechar`` element.\n",
      "    escapechar : str (length 1), optional\n",
      "        Character used to escape other characters.\n",
      "    comment : str (length 1), optional\n",
      "        Character indicating that the remainder of line should not be parsed.\n",
      "        If found at the beginning\n",
      "        of a line, the line will be ignored altogether. This parameter must be a\n",
      "        single character. Like empty lines (as long as ``skip_blank_lines=True``),\n",
      "        fully commented lines are ignored by the parameter ``header`` but not by\n",
      "        ``skiprows``. For example, if ``comment='#'``, parsing\n",
      "        ``#empty\\na,b,c\\n1,2,3`` with ``header=0`` will result in ``'a,b,c'`` being\n",
      "        treated as the header.\n",
      "    encoding : str, optional, default 'utf-8'\n",
      "        Encoding to use for UTF when reading/writing (ex. ``'utf-8'``). `List of Python\n",
      "        standard encodings\n",
      "        <https://docs.python.org/3/library/codecs.html#standard-encodings>`_ .\n",
      "    \n",
      "    encoding_errors : str, optional, default 'strict'\n",
      "        How encoding errors are treated. `List of possible values\n",
      "        <https://docs.python.org/3/library/codecs.html#error-handlers>`_ .\n",
      "    \n",
      "        .. versionadded:: 1.3.0\n",
      "    \n",
      "    dialect : str or csv.Dialect, optional\n",
      "        If provided, this parameter will override values (default or not) for the\n",
      "        following parameters: ``delimiter``, ``doublequote``, ``escapechar``,\n",
      "        ``skipinitialspace``, ``quotechar``, and ``quoting``. If it is necessary to\n",
      "        override values, a ``ParserWarning`` will be issued. See ``csv.Dialect``\n",
      "        documentation for more details.\n",
      "    on_bad_lines : {'error', 'warn', 'skip'} or Callable, default 'error'\n",
      "        Specifies what to do upon encountering a bad line (a line with too many fields).\n",
      "        Allowed values are :\n",
      "    \n",
      "        - ``'error'``, raise an Exception when a bad line is encountered.\n",
      "        - ``'warn'``, raise a warning when a bad line is encountered and skip that line.\n",
      "        - ``'skip'``, skip bad lines without raising or warning when they are encountered.\n",
      "    \n",
      "        .. versionadded:: 1.3.0\n",
      "    \n",
      "        .. versionadded:: 1.4.0\n",
      "    \n",
      "            - Callable, function with signature\n",
      "              ``(bad_line: list[str]) -> list[str] | None`` that will process a single\n",
      "              bad line. ``bad_line`` is a list of strings split by the ``sep``.\n",
      "              If the function returns ``None``, the bad line will be ignored.\n",
      "              If the function returns a new ``list`` of strings with more elements than\n",
      "              expected, a ``ParserWarning`` will be emitted while dropping extra elements.\n",
      "              Only supported when ``engine='python'``\n",
      "    \n",
      "        .. versionchanged:: 2.2.0\n",
      "    \n",
      "            - Callable, function with signature\n",
      "              as described in `pyarrow documentation\n",
      "              <https://arrow.apache.org/docs/python/generated/pyarrow.csv.ParseOptions.html\n",
      "              #pyarrow.csv.ParseOptions.invalid_row_handler>`_ when ``engine='pyarrow'``\n",
      "    \n",
      "    delim_whitespace : bool, default False\n",
      "        Specifies whether or not whitespace (e.g. ``' '`` or ``'\\t'``) will be\n",
      "        used as the ``sep`` delimiter. Equivalent to setting ``sep='\\s+'``. If this option\n",
      "        is set to ``True``, nothing should be passed in for the ``delimiter``\n",
      "        parameter.\n",
      "    \n",
      "        .. deprecated:: 2.2.0\n",
      "            Use ``sep=\"\\s+\"`` instead.\n",
      "    low_memory : bool, default True\n",
      "        Internally process the file in chunks, resulting in lower memory use\n",
      "        while parsing, but possibly mixed type inference.  To ensure no mixed\n",
      "        types either set ``False``, or specify the type with the ``dtype`` parameter.\n",
      "        Note that the entire file is read into a single :class:`~pandas.DataFrame`\n",
      "        regardless, use the ``chunksize`` or ``iterator`` parameter to return the data in\n",
      "        chunks. (Only valid with C parser).\n",
      "    memory_map : bool, default False\n",
      "        If a filepath is provided for ``filepath_or_buffer``, map the file object\n",
      "        directly onto memory and access the data directly from there. Using this\n",
      "        option can improve performance because there is no longer any I/O overhead.\n",
      "    float_precision : {'high', 'legacy', 'round_trip'}, optional\n",
      "        Specifies which converter the C engine should use for floating-point\n",
      "        values. The options are ``None`` or ``'high'`` for the ordinary converter,\n",
      "        ``'legacy'`` for the original lower precision pandas converter, and\n",
      "        ``'round_trip'`` for the round-trip converter.\n",
      "    \n",
      "    storage_options : dict, optional\n",
      "        Extra options that make sense for a particular storage connection, e.g.\n",
      "        host, port, username, password, etc. For HTTP(S) URLs the key-value pairs\n",
      "        are forwarded to ``urllib.request.Request`` as header options. For other\n",
      "        URLs (e.g. starting with \"s3://\", and \"gcs://\") the key-value pairs are\n",
      "        forwarded to ``fsspec.open``. Please see ``fsspec`` and ``urllib`` for more\n",
      "        details, and for more examples on storage options refer `here\n",
      "        <https://pandas.pydata.org/docs/user_guide/io.html?\n",
      "        highlight=storage_options#reading-writing-remote-files>`_.\n",
      "    \n",
      "    dtype_backend : {'numpy_nullable', 'pyarrow'}, default 'numpy_nullable'\n",
      "        Back-end data type applied to the resultant :class:`DataFrame`\n",
      "        (still experimental). Behaviour is as follows:\n",
      "    \n",
      "        * ``\"numpy_nullable\"``: returns nullable-dtype-backed :class:`DataFrame`\n",
      "          (default).\n",
      "        * ``\"pyarrow\"``: returns pyarrow-backed nullable :class:`ArrowDtype`\n",
      "          DataFrame.\n",
      "    \n",
      "        .. versionadded:: 2.0\n",
      "    \n",
      "    Returns\n",
      "    -------\n",
      "    DataFrame or TextFileReader\n",
      "        A comma-separated values (csv) file is returned as two-dimensional\n",
      "        data structure with labeled axes.\n",
      "    \n",
      "    See Also\n",
      "    --------\n",
      "    DataFrame.to_csv : Write DataFrame to a comma-separated values (csv) file.\n",
      "    read_table : Read general delimited file into DataFrame.\n",
      "    read_fwf : Read a table of fixed-width formatted lines into DataFrame.\n",
      "    \n",
      "    Examples\n",
      "    --------\n",
      "    >>> pd.read_csv('data.csv')  # doctest: +SKIP\n",
      "\n"
     ]
    }
   ],
   "source": [
    "help(pd.read_csv)"
   ]
  },
  {
   "cell_type": "code",
   "execution_count": 34,
   "id": "8fd3a361-4bf9-4571-bda2-514b578b053c",
   "metadata": {
    "execution": {
     "iopub.execute_input": "2024-12-15T06:05:51.351188Z",
     "iopub.status.busy": "2024-12-15T06:05:51.350635Z",
     "iopub.status.idle": "2024-12-15T06:05:51.373744Z",
     "shell.execute_reply": "2024-12-15T06:05:51.372976Z",
     "shell.execute_reply.started": "2024-12-15T06:05:51.351145Z"
    }
   },
   "outputs": [
    {
     "data": {
      "text/html": [
       "<div>\n",
       "<style scoped>\n",
       "    .dataframe tbody tr th:only-of-type {\n",
       "        vertical-align: middle;\n",
       "    }\n",
       "\n",
       "    .dataframe tbody tr th {\n",
       "        vertical-align: top;\n",
       "    }\n",
       "\n",
       "    .dataframe thead th {\n",
       "        text-align: right;\n",
       "    }\n",
       "</style>\n",
       "<table border=\"1\" class=\"dataframe\">\n",
       "  <thead>\n",
       "    <tr style=\"text-align: right;\">\n",
       "      <th></th>\n",
       "      <th>question</th>\n",
       "      <th>subject</th>\n",
       "      <th>choices</th>\n",
       "      <th>answer</th>\n",
       "    </tr>\n",
       "  </thead>\n",
       "  <tbody>\n",
       "    <tr>\n",
       "      <th>0</th>\n",
       "      <td>Find all c in Z_3 such that Z_3[x]/(x^2 + c) i...</td>\n",
       "      <td>abstract_algebra</td>\n",
       "      <td>['0' '1' '2' '3']</td>\n",
       "      <td>1</td>\n",
       "    </tr>\n",
       "    <tr>\n",
       "      <th>1</th>\n",
       "      <td>Statement 1 | If aH is an element of a factor ...</td>\n",
       "      <td>abstract_algebra</td>\n",
       "      <td>['True, True' 'False, False' 'True, False' 'Fa...</td>\n",
       "      <td>1</td>\n",
       "    </tr>\n",
       "    <tr>\n",
       "      <th>2</th>\n",
       "      <td>Statement 1 | Every element of a group generat...</td>\n",
       "      <td>abstract_algebra</td>\n",
       "      <td>['True, True' 'False, False' 'True, False' 'Fa...</td>\n",
       "      <td>2</td>\n",
       "    </tr>\n",
       "    <tr>\n",
       "      <th>3</th>\n",
       "      <td>Statement 1| Every function from a finite set ...</td>\n",
       "      <td>abstract_algebra</td>\n",
       "      <td>['True, True' 'False, False' 'True, False' 'Fa...</td>\n",
       "      <td>0</td>\n",
       "    </tr>\n",
       "    <tr>\n",
       "      <th>4</th>\n",
       "      <td>Find the characteristic of the ring 2Z.</td>\n",
       "      <td>abstract_algebra</td>\n",
       "      <td>['0' '3' '12' '30']</td>\n",
       "      <td>0</td>\n",
       "    </tr>\n",
       "    <tr>\n",
       "      <th>...</th>\n",
       "      <td>...</td>\n",
       "      <td>...</td>\n",
       "      <td>...</td>\n",
       "      <td>...</td>\n",
       "    </tr>\n",
       "    <tr>\n",
       "      <th>280</th>\n",
       "      <td>What is the sign of the covenant for Jewish m...</td>\n",
       "      <td>world_religions</td>\n",
       "      <td>['The rainbow' 'Circumcision' 'A son' 'Bar mit...</td>\n",
       "      <td>1</td>\n",
       "    </tr>\n",
       "    <tr>\n",
       "      <th>281</th>\n",
       "      <td>What is the Second Gem in Buddhism?</td>\n",
       "      <td>world_religions</td>\n",
       "      <td>['The Dharma' 'The Sangha' 'The Buddha' 'The B...</td>\n",
       "      <td>0</td>\n",
       "    </tr>\n",
       "    <tr>\n",
       "      <th>282</th>\n",
       "      <td>In which dynasty was the \"Mandate of Heaven\" ...</td>\n",
       "      <td>world_religions</td>\n",
       "      <td>['Shang' 'Zhou' 'Han' 'Xia']</td>\n",
       "      <td>1</td>\n",
       "    </tr>\n",
       "    <tr>\n",
       "      <th>283</th>\n",
       "      <td>Which Japanese government promoted a kind of ...</td>\n",
       "      <td>world_religions</td>\n",
       "      <td>['Honen' 'Tanaka' 'Tokugawa' 'Meiji']</td>\n",
       "      <td>3</td>\n",
       "    </tr>\n",
       "    <tr>\n",
       "      <th>284</th>\n",
       "      <td>How can the Upanishads be characterized?</td>\n",
       "      <td>world_religions</td>\n",
       "      <td>['Ritual texts' 'Philosophical texts' 'Hymns' ...</td>\n",
       "      <td>1</td>\n",
       "    </tr>\n",
       "  </tbody>\n",
       "</table>\n",
       "<p>285 rows × 4 columns</p>\n",
       "</div>"
      ],
      "text/plain": [
       "                                              question           subject  \\\n",
       "0    Find all c in Z_3 such that Z_3[x]/(x^2 + c) i...  abstract_algebra   \n",
       "1    Statement 1 | If aH is an element of a factor ...  abstract_algebra   \n",
       "2    Statement 1 | Every element of a group generat...  abstract_algebra   \n",
       "3    Statement 1| Every function from a finite set ...  abstract_algebra   \n",
       "4              Find the characteristic of the ring 2Z.  abstract_algebra   \n",
       "..                                                 ...               ...   \n",
       "280   What is the sign of the covenant for Jewish m...   world_religions   \n",
       "281                What is the Second Gem in Buddhism?   world_religions   \n",
       "282   In which dynasty was the \"Mandate of Heaven\" ...   world_religions   \n",
       "283   Which Japanese government promoted a kind of ...   world_religions   \n",
       "284           How can the Upanishads be characterized?   world_religions   \n",
       "\n",
       "                                               choices  answer  \n",
       "0                                    ['0' '1' '2' '3']       1  \n",
       "1    ['True, True' 'False, False' 'True, False' 'Fa...       1  \n",
       "2    ['True, True' 'False, False' 'True, False' 'Fa...       2  \n",
       "3    ['True, True' 'False, False' 'True, False' 'Fa...       0  \n",
       "4                                  ['0' '3' '12' '30']       0  \n",
       "..                                                 ...     ...  \n",
       "280  ['The rainbow' 'Circumcision' 'A son' 'Bar mit...       1  \n",
       "281  ['The Dharma' 'The Sangha' 'The Buddha' 'The B...       0  \n",
       "282                       ['Shang' 'Zhou' 'Han' 'Xia']       1  \n",
       "283              ['Honen' 'Tanaka' 'Tokugawa' 'Meiji']       3  \n",
       "284  ['Ritual texts' 'Philosophical texts' 'Hymns' ...       1  \n",
       "\n",
       "[285 rows x 4 columns]"
      ]
     },
     "execution_count": 34,
     "metadata": {},
     "output_type": "execute_result"
    }
   ],
   "source": [
    "df = pd.read_csv(\"/Users/xiransong/Code/MyTeam_Project/data/dataset/raw-mmlu/dev.csv\", index_col=0)\n",
    "df"
   ]
  },
  {
   "cell_type": "code",
   "execution_count": 35,
   "id": "43d75982-bdb8-4955-a7d7-0aecb9e6e2d1",
   "metadata": {
    "execution": {
     "iopub.execute_input": "2024-12-15T06:06:04.498360Z",
     "iopub.status.busy": "2024-12-15T06:06:04.497548Z",
     "iopub.status.idle": "2024-12-15T06:06:04.509926Z",
     "shell.execute_reply": "2024-12-15T06:06:04.508542Z",
     "shell.execute_reply.started": "2024-12-15T06:06:04.498295Z"
    }
   },
   "outputs": [
    {
     "data": {
      "text/plain": [
       "count                  285\n",
       "unique                  57\n",
       "top       abstract_algebra\n",
       "freq                     5\n",
       "Name: subject, dtype: object"
      ]
     },
     "execution_count": 35,
     "metadata": {},
     "output_type": "execute_result"
    }
   ],
   "source": [
    "df['subject'].describe()"
   ]
  },
  {
   "cell_type": "code",
   "execution_count": 36,
   "id": "d900f079-d5f6-43f3-9450-603a734802ea",
   "metadata": {
    "execution": {
     "iopub.execute_input": "2024-12-15T06:06:06.428338Z",
     "iopub.status.busy": "2024-12-15T06:06:06.427487Z",
     "iopub.status.idle": "2024-12-15T06:06:06.438087Z",
     "shell.execute_reply": "2024-12-15T06:06:06.436556Z",
     "shell.execute_reply.started": "2024-12-15T06:06:06.428249Z"
    }
   },
   "outputs": [
    {
     "data": {
      "text/plain": [
       "0     abstract_algebra\n",
       "1     abstract_algebra\n",
       "2     abstract_algebra\n",
       "3     abstract_algebra\n",
       "4     abstract_algebra\n",
       "5              anatomy\n",
       "6              anatomy\n",
       "7              anatomy\n",
       "8              anatomy\n",
       "9              anatomy\n",
       "10           astronomy\n",
       "11           astronomy\n",
       "12           astronomy\n",
       "13           astronomy\n",
       "14           astronomy\n",
       "15     business_ethics\n",
       "16     business_ethics\n",
       "17     business_ethics\n",
       "18     business_ethics\n",
       "19     business_ethics\n",
       "Name: subject, dtype: object"
      ]
     },
     "execution_count": 36,
     "metadata": {},
     "output_type": "execute_result"
    }
   ],
   "source": [
    "df['subject'][:20]"
   ]
  },
  {
   "cell_type": "code",
   "execution_count": 37,
   "id": "6f7007f7-f32e-4297-981f-fdbd7df9b8e0",
   "metadata": {
    "execution": {
     "iopub.execute_input": "2024-12-15T06:06:09.447174Z",
     "iopub.status.busy": "2024-12-15T06:06:09.446581Z",
     "iopub.status.idle": "2024-12-15T06:06:09.460112Z",
     "shell.execute_reply": "2024-12-15T06:06:09.459162Z",
     "shell.execute_reply.started": "2024-12-15T06:06:09.447125Z"
    }
   },
   "outputs": [
    {
     "data": {
      "text/html": [
       "<div>\n",
       "<style scoped>\n",
       "    .dataframe tbody tr th:only-of-type {\n",
       "        vertical-align: middle;\n",
       "    }\n",
       "\n",
       "    .dataframe tbody tr th {\n",
       "        vertical-align: top;\n",
       "    }\n",
       "\n",
       "    .dataframe thead th {\n",
       "        text-align: right;\n",
       "    }\n",
       "</style>\n",
       "<table border=\"1\" class=\"dataframe\">\n",
       "  <thead>\n",
       "    <tr style=\"text-align: right;\">\n",
       "      <th></th>\n",
       "      <th>question</th>\n",
       "      <th>subject</th>\n",
       "      <th>choices</th>\n",
       "      <th>answer</th>\n",
       "    </tr>\n",
       "  </thead>\n",
       "  <tbody>\n",
       "    <tr>\n",
       "      <th>10</th>\n",
       "      <td>You are pushing a truck along a road. Would it...</td>\n",
       "      <td>astronomy</td>\n",
       "      <td>['It would be harder since the truck is heavie...</td>\n",
       "      <td>3</td>\n",
       "    </tr>\n",
       "    <tr>\n",
       "      <th>11</th>\n",
       "      <td>Where do most short-period comets come from an...</td>\n",
       "      <td>astronomy</td>\n",
       "      <td>['The Kuiper belt; short period comets tend to...</td>\n",
       "      <td>0</td>\n",
       "    </tr>\n",
       "    <tr>\n",
       "      <th>12</th>\n",
       "      <td>Say the pupil of your eye has a diameter of 5 ...</td>\n",
       "      <td>astronomy</td>\n",
       "      <td>['10000 times more' '100 times more' '1000 tim...</td>\n",
       "      <td>0</td>\n",
       "    </tr>\n",
       "    <tr>\n",
       "      <th>13</th>\n",
       "      <td>Why isn't there a planet where the asteroid be...</td>\n",
       "      <td>astronomy</td>\n",
       "      <td>['A planet once formed here but it was broken ...</td>\n",
       "      <td>3</td>\n",
       "    </tr>\n",
       "    <tr>\n",
       "      <th>14</th>\n",
       "      <td>Why is Mars red?</td>\n",
       "      <td>astronomy</td>\n",
       "      <td>['Because the surface is covered with heavily ...</td>\n",
       "      <td>0</td>\n",
       "    </tr>\n",
       "  </tbody>\n",
       "</table>\n",
       "</div>"
      ],
      "text/plain": [
       "                                             question    subject  \\\n",
       "10  You are pushing a truck along a road. Would it...  astronomy   \n",
       "11  Where do most short-period comets come from an...  astronomy   \n",
       "12  Say the pupil of your eye has a diameter of 5 ...  astronomy   \n",
       "13  Why isn't there a planet where the asteroid be...  astronomy   \n",
       "14                                   Why is Mars red?  astronomy   \n",
       "\n",
       "                                              choices  answer  \n",
       "10  ['It would be harder since the truck is heavie...       3  \n",
       "11  ['The Kuiper belt; short period comets tend to...       0  \n",
       "12  ['10000 times more' '100 times more' '1000 tim...       0  \n",
       "13  ['A planet once formed here but it was broken ...       3  \n",
       "14  ['Because the surface is covered with heavily ...       0  "
      ]
     },
     "execution_count": 37,
     "metadata": {},
     "output_type": "execute_result"
    }
   ],
   "source": [
    "df2 = df.loc[df['subject'] == 'astronomy']\n",
    "df2"
   ]
  },
  {
   "cell_type": "code",
   "execution_count": 55,
   "id": "221787ad-cfae-4604-a3f2-9ca98022069e",
   "metadata": {
    "execution": {
     "iopub.execute_input": "2024-12-15T06:16:26.020273Z",
     "iopub.status.busy": "2024-12-15T06:16:26.018938Z",
     "iopub.status.idle": "2024-12-15T06:16:26.032221Z",
     "shell.execute_reply": "2024-12-15T06:16:26.031449Z",
     "shell.execute_reply.started": "2024-12-15T06:16:26.020170Z"
    }
   },
   "outputs": [
    {
     "data": {
      "text/plain": [
       "Index([12, 14], dtype='int64')"
      ]
     },
     "execution_count": 55,
     "metadata": {},
     "output_type": "execute_result"
    }
   ],
   "source": [
    "idx = np.array([2, 3])\n",
    "df2.index[idx]"
   ]
  },
  {
   "cell_type": "code",
   "execution_count": 56,
   "id": "08f2320a-4e9a-44a6-af7d-ca7bf11d3711",
   "metadata": {
    "execution": {
     "iopub.execute_input": "2024-12-15T06:16:28.978059Z",
     "iopub.status.busy": "2024-12-15T06:16:28.977558Z",
     "iopub.status.idle": "2024-12-15T06:16:28.994348Z",
     "shell.execute_reply": "2024-12-15T06:16:28.993584Z",
     "shell.execute_reply.started": "2024-12-15T06:16:28.978026Z"
    }
   },
   "outputs": [
    {
     "data": {
      "text/html": [
       "<div>\n",
       "<style scoped>\n",
       "    .dataframe tbody tr th:only-of-type {\n",
       "        vertical-align: middle;\n",
       "    }\n",
       "\n",
       "    .dataframe tbody tr th {\n",
       "        vertical-align: top;\n",
       "    }\n",
       "\n",
       "    .dataframe thead th {\n",
       "        text-align: right;\n",
       "    }\n",
       "</style>\n",
       "<table border=\"1\" class=\"dataframe\">\n",
       "  <thead>\n",
       "    <tr style=\"text-align: right;\">\n",
       "      <th></th>\n",
       "      <th>question</th>\n",
       "      <th>subject</th>\n",
       "      <th>choices</th>\n",
       "      <th>answer</th>\n",
       "    </tr>\n",
       "  </thead>\n",
       "  <tbody>\n",
       "    <tr>\n",
       "      <th>11</th>\n",
       "      <td>You are pushing a truck along a road. Would it...</td>\n",
       "      <td>astronomy</td>\n",
       "      <td>['It would be harder since the truck is heavie...</td>\n",
       "      <td>3</td>\n",
       "    </tr>\n",
       "    <tr>\n",
       "      <th>13</th>\n",
       "      <td>Where do most short-period comets come from an...</td>\n",
       "      <td>astronomy</td>\n",
       "      <td>['The Kuiper belt; short period comets tend to...</td>\n",
       "      <td>0</td>\n",
       "    </tr>\n",
       "    <tr>\n",
       "      <th>12</th>\n",
       "      <td>Say the pupil of your eye has a diameter of 5 ...</td>\n",
       "      <td>astronomy</td>\n",
       "      <td>['10000 times more' '100 times more' '1000 tim...</td>\n",
       "      <td>0</td>\n",
       "    </tr>\n",
       "    <tr>\n",
       "      <th>14</th>\n",
       "      <td>Why isn't there a planet where the asteroid be...</td>\n",
       "      <td>astronomy</td>\n",
       "      <td>['A planet once formed here but it was broken ...</td>\n",
       "      <td>3</td>\n",
       "    </tr>\n",
       "    <tr>\n",
       "      <th>10</th>\n",
       "      <td>Why is Mars red?</td>\n",
       "      <td>astronomy</td>\n",
       "      <td>['Because the surface is covered with heavily ...</td>\n",
       "      <td>0</td>\n",
       "    </tr>\n",
       "  </tbody>\n",
       "</table>\n",
       "</div>"
      ],
      "text/plain": [
       "                                             question    subject  \\\n",
       "11  You are pushing a truck along a road. Would it...  astronomy   \n",
       "13  Where do most short-period comets come from an...  astronomy   \n",
       "12  Say the pupil of your eye has a diameter of 5 ...  astronomy   \n",
       "14  Why isn't there a planet where the asteroid be...  astronomy   \n",
       "10                                   Why is Mars red?  astronomy   \n",
       "\n",
       "                                              choices  answer  \n",
       "11  ['It would be harder since the truck is heavie...       3  \n",
       "13  ['The Kuiper belt; short period comets tend to...       0  \n",
       "12  ['10000 times more' '100 times more' '1000 tim...       0  \n",
       "14  ['A planet once formed here but it was broken ...       3  \n",
       "10  ['Because the surface is covered with heavily ...       0  "
      ]
     },
     "execution_count": 56,
     "metadata": {},
     "output_type": "execute_result"
    }
   ],
   "source": [
    "df2"
   ]
  },
  {
   "cell_type": "code",
   "execution_count": 57,
   "id": "2233501f-4bce-490f-a557-4cc6f5e9f48b",
   "metadata": {
    "execution": {
     "iopub.execute_input": "2024-12-15T06:16:35.948245Z",
     "iopub.status.busy": "2024-12-15T06:16:35.947662Z",
     "iopub.status.idle": "2024-12-15T06:16:35.961161Z",
     "shell.execute_reply": "2024-12-15T06:16:35.960297Z",
     "shell.execute_reply.started": "2024-12-15T06:16:35.948203Z"
    }
   },
   "outputs": [
    {
     "data": {
      "text/html": [
       "<div>\n",
       "<style scoped>\n",
       "    .dataframe tbody tr th:only-of-type {\n",
       "        vertical-align: middle;\n",
       "    }\n",
       "\n",
       "    .dataframe tbody tr th {\n",
       "        vertical-align: top;\n",
       "    }\n",
       "\n",
       "    .dataframe thead th {\n",
       "        text-align: right;\n",
       "    }\n",
       "</style>\n",
       "<table border=\"1\" class=\"dataframe\">\n",
       "  <thead>\n",
       "    <tr style=\"text-align: right;\">\n",
       "      <th></th>\n",
       "      <th>question</th>\n",
       "      <th>subject</th>\n",
       "      <th>choices</th>\n",
       "      <th>answer</th>\n",
       "    </tr>\n",
       "  </thead>\n",
       "  <tbody>\n",
       "    <tr>\n",
       "      <th>12</th>\n",
       "      <td>Say the pupil of your eye has a diameter of 5 ...</td>\n",
       "      <td>astronomy</td>\n",
       "      <td>['10000 times more' '100 times more' '1000 tim...</td>\n",
       "      <td>0</td>\n",
       "    </tr>\n",
       "    <tr>\n",
       "      <th>14</th>\n",
       "      <td>Why isn't there a planet where the asteroid be...</td>\n",
       "      <td>astronomy</td>\n",
       "      <td>['A planet once formed here but it was broken ...</td>\n",
       "      <td>3</td>\n",
       "    </tr>\n",
       "  </tbody>\n",
       "</table>\n",
       "</div>"
      ],
      "text/plain": [
       "                                             question    subject  \\\n",
       "12  Say the pupil of your eye has a diameter of 5 ...  astronomy   \n",
       "14  Why isn't there a planet where the asteroid be...  astronomy   \n",
       "\n",
       "                                              choices  answer  \n",
       "12  ['10000 times more' '100 times more' '1000 tim...       0  \n",
       "14  ['A planet once formed here but it was broken ...       3  "
      ]
     },
     "execution_count": 57,
     "metadata": {},
     "output_type": "execute_result"
    }
   ],
   "source": [
    "df2.loc[df2.index[idx]]"
   ]
  },
  {
   "cell_type": "code",
   "execution_count": null,
   "id": "f24ac274-04f8-41f3-9e66-919be8fd05ed",
   "metadata": {},
   "outputs": [],
   "source": []
  },
  {
   "cell_type": "code",
   "execution_count": null,
   "id": "0cad3c17-2282-4ff0-9632-1892b43fc59a",
   "metadata": {},
   "outputs": [],
   "source": []
  },
  {
   "cell_type": "code",
   "execution_count": null,
   "id": "2a26d16b-8342-449f-8871-e163e754e662",
   "metadata": {},
   "outputs": [],
   "source": []
  },
  {
   "cell_type": "code",
   "execution_count": 43,
   "id": "2773279a-7129-402a-a814-1a85c7caba76",
   "metadata": {
    "execution": {
     "iopub.execute_input": "2024-12-15T06:07:36.911692Z",
     "iopub.status.busy": "2024-12-15T06:07:36.911178Z",
     "iopub.status.idle": "2024-12-15T06:07:36.941986Z",
     "shell.execute_reply": "2024-12-15T06:07:36.941259Z",
     "shell.execute_reply.started": "2024-12-15T06:07:36.911657Z"
    }
   },
   "outputs": [
    {
     "ename": "AttributeError",
     "evalue": "'Index' object has no attribute 'clone'",
     "output_type": "error",
     "traceback": [
      "\u001b[0;31m---------------------------------------------------------------------------\u001b[0m",
      "\u001b[0;31mAttributeError\u001b[0m                            Traceback (most recent call last)",
      "Cell \u001b[0;32mIn[43], line 1\u001b[0m\n\u001b[0;32m----> 1\u001b[0m idx \u001b[38;5;241m=\u001b[39m \u001b[43mdf2\u001b[49m\u001b[38;5;241;43m.\u001b[39;49m\u001b[43mindex\u001b[49m\u001b[38;5;241;43m.\u001b[39;49m\u001b[43mclone\u001b[49m\u001b[38;5;241m.\u001b[39mto_numpy()\n\u001b[1;32m      2\u001b[0m idx\n",
      "\u001b[0;31mAttributeError\u001b[0m: 'Index' object has no attribute 'clone'"
     ]
    }
   ],
   "source": [
    "df2.loc[df]"
   ]
  },
  {
   "cell_type": "code",
   "execution_count": null,
   "id": "a39115c2-09c5-4897-bfcb-e26721195d17",
   "metadata": {},
   "outputs": [],
   "source": []
  },
  {
   "cell_type": "code",
   "execution_count": null,
   "id": "ecae475d-7e19-41b0-8954-6ef1532c5a02",
   "metadata": {},
   "outputs": [],
   "source": []
  },
  {
   "cell_type": "code",
   "execution_count": null,
   "id": "5389d581-6dfa-43b7-8284-e6bee1194191",
   "metadata": {},
   "outputs": [],
   "source": []
  },
  {
   "cell_type": "code",
   "execution_count": 28,
   "id": "4908cf96-7001-4009-9e90-f69a8e88c8bd",
   "metadata": {
    "execution": {
     "iopub.execute_input": "2024-12-15T05:46:12.247761Z",
     "iopub.status.busy": "2024-12-15T05:46:12.247072Z",
     "iopub.status.idle": "2024-12-15T05:46:12.255394Z",
     "shell.execute_reply": "2024-12-15T05:46:12.254428Z",
     "shell.execute_reply.started": "2024-12-15T05:46:12.247706Z"
    }
   },
   "outputs": [
    {
     "data": {
      "text/plain": [
       "array(['abstract_algebra', 'anatomy', 'astronomy', 'business_ethics',\n",
       "       'clinical_knowledge', 'college_biology', 'college_chemistry',\n",
       "       'college_computer_science', 'college_mathematics',\n",
       "       'college_medicine', 'college_physics', 'computer_security',\n",
       "       'conceptual_physics', 'econometrics', 'electrical_engineering',\n",
       "       'elementary_mathematics', 'formal_logic', 'global_facts',\n",
       "       'high_school_biology', 'high_school_chemistry',\n",
       "       'high_school_computer_science', 'high_school_european_history',\n",
       "       'high_school_geography', 'high_school_government_and_politics',\n",
       "       'high_school_macroeconomics', 'high_school_mathematics',\n",
       "       'high_school_microeconomics', 'high_school_physics',\n",
       "       'high_school_psychology', 'high_school_statistics',\n",
       "       'high_school_us_history', 'high_school_world_history',\n",
       "       'human_aging', 'human_sexuality', 'international_law',\n",
       "       'jurisprudence', 'logical_fallacies', 'machine_learning',\n",
       "       'management', 'marketing', 'medical_genetics', 'miscellaneous',\n",
       "       'moral_disputes', 'moral_scenarios', 'nutrition', 'philosophy',\n",
       "       'prehistory', 'professional_accounting', 'professional_law',\n",
       "       'professional_medicine', 'professional_psychology',\n",
       "       'public_relations', 'security_studies', 'sociology',\n",
       "       'us_foreign_policy', 'virology', 'world_religions'], dtype=object)"
      ]
     },
     "execution_count": 28,
     "metadata": {},
     "output_type": "execute_result"
    }
   ],
   "source": [
    "df['subject'].unique()"
   ]
  },
  {
   "cell_type": "code",
   "execution_count": 23,
   "id": "1201e165-2173-4759-93a1-6be8149d025e",
   "metadata": {
    "execution": {
     "iopub.execute_input": "2024-12-15T05:14:31.457725Z",
     "iopub.status.busy": "2024-12-15T05:14:31.457058Z",
     "iopub.status.idle": "2024-12-15T05:14:31.465967Z",
     "shell.execute_reply": "2024-12-15T05:14:31.464634Z",
     "shell.execute_reply.started": "2024-12-15T05:14:31.457680Z"
    }
   },
   "outputs": [
    {
     "data": {
      "text/plain": [
       "False"
      ]
     },
     "execution_count": 23,
     "metadata": {},
     "output_type": "execute_result"
    }
   ],
   "source": [
    "'a' in df['subject'].unique()"
   ]
  },
  {
   "cell_type": "code",
   "execution_count": null,
   "id": "27d1c7f4-ec0a-47a7-9ff0-f571a6515eb9",
   "metadata": {},
   "outputs": [],
   "source": []
  },
  {
   "cell_type": "code",
   "execution_count": null,
   "id": "8064bf3a-c203-475b-a3b9-238338f76613",
   "metadata": {},
   "outputs": [],
   "source": []
  },
  {
   "cell_type": "code",
   "execution_count": 4,
   "id": "2090fd27-9366-46e8-bf33-aa355b230f02",
   "metadata": {
    "execution": {
     "iopub.execute_input": "2024-12-14T23:44:23.901664Z",
     "iopub.status.busy": "2024-12-14T23:44:23.901120Z",
     "iopub.status.idle": "2024-12-14T23:44:24.550288Z",
     "shell.execute_reply": "2024-12-14T23:44:24.547388Z",
     "shell.execute_reply.started": "2024-12-14T23:44:23.901625Z"
    }
   },
   "outputs": [
    {
     "name": "stderr",
     "output_type": "stream",
     "text": [
      "flaml.automl is not available. Please install flaml[automl] to enable AutoML functionalities.\n"
     ]
    }
   ],
   "source": [
    "import os\n",
    "from autogen import AssistantAgent, UserProxyAgent"
   ]
  },
  {
   "cell_type": "code",
   "execution_count": 8,
   "id": "bcf1db7a-cfd5-4a67-93f4-f6fe6a25f0ed",
   "metadata": {
    "execution": {
     "iopub.execute_input": "2024-12-14T23:47:51.452416Z",
     "iopub.status.busy": "2024-12-14T23:47:51.451699Z",
     "iopub.status.idle": "2024-12-14T23:47:51.457400Z",
     "shell.execute_reply": "2024-12-14T23:47:51.456424Z",
     "shell.execute_reply.started": "2024-12-14T23:47:51.452366Z"
    }
   },
   "outputs": [],
   "source": [
    "from datasets import load_dataset\n",
    "import pprint"
   ]
  },
  {
   "cell_type": "code",
   "execution_count": null,
   "id": "3f62982a-1484-4b3f-b99c-6a53821070f5",
   "metadata": {},
   "outputs": [],
   "source": []
  },
  {
   "cell_type": "code",
   "execution_count": 2,
   "id": "7c32f456-b5f8-425a-b0e7-b2ade4018329",
   "metadata": {
    "execution": {
     "iopub.execute_input": "2024-12-14T16:26:28.964520Z",
     "iopub.status.busy": "2024-12-14T16:26:28.963555Z",
     "iopub.status.idle": "2024-12-14T16:26:34.201830Z",
     "shell.execute_reply": "2024-12-14T16:26:34.200871Z",
     "shell.execute_reply.started": "2024-12-14T16:26:28.964458Z"
    }
   },
   "outputs": [
    {
     "name": "stdout",
     "output_type": "stream",
     "text": [
      "Since the 2020 World Series involved teams that were both based on the West coast, and did not require an open-air venue, neither team had a home-venue restriction; I am assuming you are asking where the games took place.\n",
      "\n",
      "The 2020 World Series games took place in both Houston Texas (home of the Dodgers) at Minute Maid Park\n"
     ]
    }
   ],
   "source": [
    "from openai import OpenAI\n",
    "\n",
    "client = OpenAI(\n",
    "    base_url = 'http://localhost:11434/v1',\n",
    "    api_key='ollama', # required, but unused\n",
    ")\n",
    "\n",
    "response = client.chat.completions.create(\n",
    "  model=\"llama3.2\",\n",
    "  messages=[\n",
    "    {\"role\": \"system\", \"content\": \"You are a helpful assistant.\"},\n",
    "    {\"role\": \"user\", \"content\": \"Who won the world series in 2020?\"},\n",
    "    {\"role\": \"assistant\", \"content\": \"The LA Dodgers won in 2020.\"},\n",
    "    {\"role\": \"user\", \"content\": \"Where was it played?\"}\n",
    "  ]\n",
    ")\n",
    "print(response.choices[0].message.content)"
   ]
  },
  {
   "cell_type": "code",
   "execution_count": null,
   "id": "7ed2820f-32d5-43c5-b591-9d1b82328f10",
   "metadata": {},
   "outputs": [],
   "source": []
  },
  {
   "cell_type": "code",
   "execution_count": null,
   "id": "0db0b09c-7e06-43f0-b332-981e79e6d779",
   "metadata": {},
   "outputs": [],
   "source": []
  }
 ],
 "metadata": {
  "kernelspec": {
   "display_name": "Python 3 (ipykernel)",
   "language": "python",
   "name": "python3"
  },
  "language_info": {
   "codemirror_mode": {
    "name": "ipython",
    "version": 3
   },
   "file_extension": ".py",
   "mimetype": "text/x-python",
   "name": "python",
   "nbconvert_exporter": "python",
   "pygments_lexer": "ipython3",
   "version": "3.10.15"
  }
 },
 "nbformat": 4,
 "nbformat_minor": 5
}
