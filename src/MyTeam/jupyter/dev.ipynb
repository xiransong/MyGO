{
 "cells": [
  {
   "cell_type": "code",
   "execution_count": 1,
   "id": "2090fd27-9366-46e8-bf33-aa355b230f02",
   "metadata": {
    "execution": {
     "iopub.execute_input": "2024-12-14T16:26:18.482884Z",
     "iopub.status.busy": "2024-12-14T16:26:18.482114Z",
     "iopub.status.idle": "2024-12-14T16:26:26.494818Z",
     "shell.execute_reply": "2024-12-14T16:26:26.494541Z",
     "shell.execute_reply.started": "2024-12-14T16:26:18.482837Z"
    }
   },
   "outputs": [
    {
     "name": "stderr",
     "output_type": "stream",
     "text": [
      "flaml.automl is not available. Please install flaml[automl] to enable AutoML functionalities.\n"
     ]
    }
   ],
   "source": [
    "import os\n",
    "from autogen import AssistantAgent, UserProxyAgent"
   ]
  },
  {
   "cell_type": "code",
   "execution_count": 2,
   "id": "7c32f456-b5f8-425a-b0e7-b2ade4018329",
   "metadata": {
    "execution": {
     "iopub.execute_input": "2024-12-14T16:26:28.964520Z",
     "iopub.status.busy": "2024-12-14T16:26:28.963555Z",
     "iopub.status.idle": "2024-12-14T16:26:34.201830Z",
     "shell.execute_reply": "2024-12-14T16:26:34.200871Z",
     "shell.execute_reply.started": "2024-12-14T16:26:28.964458Z"
    }
   },
   "outputs": [
    {
     "name": "stdout",
     "output_type": "stream",
     "text": [
      "Since the 2020 World Series involved teams that were both based on the West coast, and did not require an open-air venue, neither team had a home-venue restriction; I am assuming you are asking where the games took place.\n",
      "\n",
      "The 2020 World Series games took place in both Houston Texas (home of the Dodgers) at Minute Maid Park\n"
     ]
    }
   ],
   "source": [
    "from openai import OpenAI\n",
    "\n",
    "client = OpenAI(\n",
    "    base_url = 'http://localhost:11434/v1',\n",
    "    api_key='ollama', # required, but unused\n",
    ")\n",
    "\n",
    "response = client.chat.completions.create(\n",
    "  model=\"llama3.2\",\n",
    "  messages=[\n",
    "    {\"role\": \"system\", \"content\": \"You are a helpful assistant.\"},\n",
    "    {\"role\": \"user\", \"content\": \"Who won the world series in 2020?\"},\n",
    "    {\"role\": \"assistant\", \"content\": \"The LA Dodgers won in 2020.\"},\n",
    "    {\"role\": \"user\", \"content\": \"Where was it played?\"}\n",
    "  ]\n",
    ")\n",
    "print(response.choices[0].message.content)"
   ]
  },
  {
   "cell_type": "code",
   "execution_count": null,
   "id": "7ed2820f-32d5-43c5-b591-9d1b82328f10",
   "metadata": {},
   "outputs": [],
   "source": []
  }
 ],
 "metadata": {
  "kernelspec": {
   "display_name": "Mult-Agent-Lab",
   "language": "python",
   "name": "mult-agent-lab"
  },
  "language_info": {
   "codemirror_mode": {
    "name": "ipython",
    "version": 3
   },
   "file_extension": ".py",
   "mimetype": "text/x-python",
   "name": "python",
   "nbconvert_exporter": "python",
   "pygments_lexer": "ipython3",
   "version": "3.10.15"
  }
 },
 "nbformat": 4,
 "nbformat_minor": 5
}
