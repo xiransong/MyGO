{
 "cells": [
  {
   "cell_type": "code",
   "execution_count": 2,
   "id": "c397b424-272d-499e-af69-50f35335b5d3",
   "metadata": {
    "execution": {
     "iopub.execute_input": "2024-12-14T23:44:21.795142Z",
     "iopub.status.busy": "2024-12-14T23:44:21.794488Z",
     "iopub.status.idle": "2024-12-14T23:44:21.800310Z",
     "shell.execute_reply": "2024-12-14T23:44:21.799419Z",
     "shell.execute_reply.started": "2024-12-14T23:44:21.795094Z"
    }
   },
   "outputs": [],
   "source": [
    "import os.path as osp\n",
    "\n",
    "project_root = \"/Users/xiransong/Code/MyTeam_Project/\"\n",
    "all_data_root = osp.join(project_root, \"data\")"
   ]
  },
  {
   "cell_type": "code",
   "execution_count": 3,
   "id": "afebf86b-3a14-403f-b8be-fed753144699",
   "metadata": {
    "execution": {
     "iopub.execute_input": "2024-12-14T23:44:22.526175Z",
     "iopub.status.busy": "2024-12-14T23:44:22.525485Z",
     "iopub.status.idle": "2024-12-14T23:44:22.530842Z",
     "shell.execute_reply": "2024-12-14T23:44:22.529884Z",
     "shell.execute_reply.started": "2024-12-14T23:44:22.526123Z"
    }
   },
   "outputs": [],
   "source": [
    "import MyTeam\n",
    "from MyTeam.utils import ensure_dir"
   ]
  },
  {
   "cell_type": "code",
   "execution_count": 4,
   "id": "2090fd27-9366-46e8-bf33-aa355b230f02",
   "metadata": {
    "execution": {
     "iopub.execute_input": "2024-12-14T23:44:23.901664Z",
     "iopub.status.busy": "2024-12-14T23:44:23.901120Z",
     "iopub.status.idle": "2024-12-14T23:44:24.550288Z",
     "shell.execute_reply": "2024-12-14T23:44:24.547388Z",
     "shell.execute_reply.started": "2024-12-14T23:44:23.901625Z"
    }
   },
   "outputs": [
    {
     "name": "stderr",
     "output_type": "stream",
     "text": [
      "flaml.automl is not available. Please install flaml[automl] to enable AutoML functionalities.\n"
     ]
    }
   ],
   "source": [
    "import os\n",
    "from autogen import AssistantAgent, UserProxyAgent"
   ]
  },
  {
   "cell_type": "code",
   "execution_count": 8,
   "id": "bcf1db7a-cfd5-4a67-93f4-f6fe6a25f0ed",
   "metadata": {
    "execution": {
     "iopub.execute_input": "2024-12-14T23:47:51.452416Z",
     "iopub.status.busy": "2024-12-14T23:47:51.451699Z",
     "iopub.status.idle": "2024-12-14T23:47:51.457400Z",
     "shell.execute_reply": "2024-12-14T23:47:51.456424Z",
     "shell.execute_reply.started": "2024-12-14T23:47:51.452366Z"
    }
   },
   "outputs": [],
   "source": [
    "from datasets import load_dataset\n",
    "import pprint"
   ]
  },
  {
   "cell_type": "code",
   "execution_count": 17,
   "id": "bb393f7a-61c1-441c-9ba7-dde47cfdcefb",
   "metadata": {
    "execution": {
     "iopub.execute_input": "2024-12-15T02:10:37.564875Z",
     "iopub.status.busy": "2024-12-15T02:10:37.563868Z",
     "iopub.status.idle": "2024-12-15T02:10:44.577385Z",
     "shell.execute_reply": "2024-12-15T02:10:44.577084Z",
     "shell.execute_reply.started": "2024-12-15T02:10:37.564797Z"
    }
   },
   "outputs": [
    {
     "data": {
      "application/vnd.jupyter.widget-view+json": {
       "model_id": "d7efe3d42221417494a9c2198fcf6514",
       "version_major": 2,
       "version_minor": 0
      },
      "text/plain": [
       "test-00000-of-00001.parquet:   0%|          | 0.00/3.50M [00:00<?, ?B/s]"
      ]
     },
     "metadata": {},
     "output_type": "display_data"
    },
    {
     "data": {
      "application/vnd.jupyter.widget-view+json": {
       "model_id": "52fb9e64d7a945e883ac22cbfbde3edd",
       "version_major": 2,
       "version_minor": 0
      },
      "text/plain": [
       "validation-00000-of-00001.parquet:   0%|          | 0.00/408k [00:00<?, ?B/s]"
      ]
     },
     "metadata": {},
     "output_type": "display_data"
    },
    {
     "data": {
      "application/vnd.jupyter.widget-view+json": {
       "model_id": "b64484157107473980c08578d8b2d332",
       "version_major": 2,
       "version_minor": 0
      },
      "text/plain": [
       "dev-00000-of-00001.parquet:   0%|          | 0.00/76.5k [00:00<?, ?B/s]"
      ]
     },
     "metadata": {},
     "output_type": "display_data"
    },
    {
     "data": {
      "application/vnd.jupyter.widget-view+json": {
       "model_id": "22762052c2f74422af9e2ec46216f226",
       "version_major": 2,
       "version_minor": 0
      },
      "text/plain": [
       "auxiliary_train-00000-of-00001.parquet:   0%|          | 0.00/47.5M [00:00<?, ?B/s]"
      ]
     },
     "metadata": {},
     "output_type": "display_data"
    },
    {
     "data": {
      "application/vnd.jupyter.widget-view+json": {
       "model_id": "fc72046e75a14d8abf0ee5a78f2f11d3",
       "version_major": 2,
       "version_minor": 0
      },
      "text/plain": [
       "Generating test split:   0%|          | 0/14042 [00:00<?, ? examples/s]"
      ]
     },
     "metadata": {},
     "output_type": "display_data"
    },
    {
     "data": {
      "application/vnd.jupyter.widget-view+json": {
       "model_id": "8e3ad205d6674f5dafc38294ee3ff40e",
       "version_major": 2,
       "version_minor": 0
      },
      "text/plain": [
       "Generating validation split:   0%|          | 0/1531 [00:00<?, ? examples/s]"
      ]
     },
     "metadata": {},
     "output_type": "display_data"
    },
    {
     "data": {
      "application/vnd.jupyter.widget-view+json": {
       "model_id": "4b650cceca7047c38ee0b1787f94c326",
       "version_major": 2,
       "version_minor": 0
      },
      "text/plain": [
       "Generating dev split:   0%|          | 0/285 [00:00<?, ? examples/s]"
      ]
     },
     "metadata": {},
     "output_type": "display_data"
    },
    {
     "data": {
      "application/vnd.jupyter.widget-view+json": {
       "model_id": "7c878e37bf3a4b41b7ad97acb6f0c8f6",
       "version_major": 2,
       "version_minor": 0
      },
      "text/plain": [
       "Generating auxiliary_train split:   0%|          | 0/99842 [00:00<?, ? examples/s]"
      ]
     },
     "metadata": {},
     "output_type": "display_data"
    }
   ],
   "source": [
    "data_root = osp.join(all_data_root, \"dataset\", \"mmlu\")\n",
    "dataset = load_dataset(\"cais/mmlu\", \"all\", cache_dir=data_root)"
   ]
  },
  {
   "cell_type": "code",
   "execution_count": 18,
   "id": "79d05ed5-28e5-4aa5-9bfd-69c2860172ee",
   "metadata": {
    "execution": {
     "iopub.execute_input": "2024-12-15T02:10:47.313753Z",
     "iopub.status.busy": "2024-12-15T02:10:47.313141Z",
     "iopub.status.idle": "2024-12-15T02:10:47.320390Z",
     "shell.execute_reply": "2024-12-15T02:10:47.319338Z",
     "shell.execute_reply.started": "2024-12-15T02:10:47.313699Z"
    }
   },
   "outputs": [
    {
     "data": {
      "text/plain": [
       "DatasetDict({\n",
       "    test: Dataset({\n",
       "        features: ['question', 'subject', 'choices', 'answer'],\n",
       "        num_rows: 14042\n",
       "    })\n",
       "    validation: Dataset({\n",
       "        features: ['question', 'subject', 'choices', 'answer'],\n",
       "        num_rows: 1531\n",
       "    })\n",
       "    dev: Dataset({\n",
       "        features: ['question', 'subject', 'choices', 'answer'],\n",
       "        num_rows: 285\n",
       "    })\n",
       "    auxiliary_train: Dataset({\n",
       "        features: ['question', 'subject', 'choices', 'answer'],\n",
       "        num_rows: 99842\n",
       "    })\n",
       "})"
      ]
     },
     "execution_count": 18,
     "metadata": {},
     "output_type": "execute_result"
    }
   ],
   "source": [
    "dataset"
   ]
  },
  {
   "cell_type": "code",
   "execution_count": 20,
   "id": "358767eb-f908-46b2-a6b6-d34470d9560c",
   "metadata": {
    "execution": {
     "iopub.execute_input": "2024-12-15T02:11:07.217113Z",
     "iopub.status.busy": "2024-12-15T02:11:07.216421Z",
     "iopub.status.idle": "2024-12-15T02:11:07.226525Z",
     "shell.execute_reply": "2024-12-15T02:11:07.225621Z",
     "shell.execute_reply.started": "2024-12-15T02:11:07.217055Z"
    }
   },
   "outputs": [
    {
     "name": "stdout",
     "output_type": "stream",
     "text": [
      "{'answer': 1,\n",
      " 'choices': ['0', '1', '2', '3'],\n",
      " 'question': 'Find all c in Z_3 such that Z_3[x]/(x^2 + c) is a field.',\n",
      " 'subject': 'abstract_algebra'}\n",
      "\n",
      "\n",
      "\n",
      "{'answer': 1,\n",
      " 'choices': ['True, True', 'False, False', 'True, False', 'False, True'],\n",
      " 'question': 'Statement 1 | If aH is an element of a factor group, then |aH| '\n",
      "             'divides |a|. Statement 2 | If H and K are subgroups of G then HK '\n",
      "             'is a subgroup of G.',\n",
      " 'subject': 'abstract_algebra'}\n",
      "\n",
      "\n",
      "\n",
      "{'answer': 2,\n",
      " 'choices': ['True, True', 'False, False', 'True, False', 'False, True'],\n",
      " 'question': 'Statement 1 | Every element of a group generates a cyclic '\n",
      "             'subgroup of the group. Statement 2 | The symmetric group S_10 '\n",
      "             'has 10 elements.',\n",
      " 'subject': 'abstract_algebra'}\n",
      "\n",
      "\n",
      "\n"
     ]
    }
   ],
   "source": [
    "# Select the 'train' split (you can also choose 'test', 'unsupervised', etc., depending on the dataset)\n",
    "train_data = dataset['dev']\n",
    "\n",
    "# Check the first 3 items of the dataset\n",
    "for i, example in enumerate(train_data):\n",
    "    if i >= 3:\n",
    "        break\n",
    "    pprint.pprint(example)\n",
    "    print(\"\\n\\n\")"
   ]
  },
  {
   "cell_type": "code",
   "execution_count": null,
   "id": "65212f19-bd9c-4a3f-9f92-97d7c75a24d4",
   "metadata": {},
   "outputs": [],
   "source": [
    "# Prints the nicely formatted dictionary\n",
    "pprint.pprint(dictionary)"
   ]
  },
  {
   "cell_type": "code",
   "execution_count": null,
   "id": "3f62982a-1484-4b3f-b99c-6a53821070f5",
   "metadata": {},
   "outputs": [],
   "source": []
  },
  {
   "cell_type": "code",
   "execution_count": 2,
   "id": "7c32f456-b5f8-425a-b0e7-b2ade4018329",
   "metadata": {
    "execution": {
     "iopub.execute_input": "2024-12-14T16:26:28.964520Z",
     "iopub.status.busy": "2024-12-14T16:26:28.963555Z",
     "iopub.status.idle": "2024-12-14T16:26:34.201830Z",
     "shell.execute_reply": "2024-12-14T16:26:34.200871Z",
     "shell.execute_reply.started": "2024-12-14T16:26:28.964458Z"
    }
   },
   "outputs": [
    {
     "name": "stdout",
     "output_type": "stream",
     "text": [
      "Since the 2020 World Series involved teams that were both based on the West coast, and did not require an open-air venue, neither team had a home-venue restriction; I am assuming you are asking where the games took place.\n",
      "\n",
      "The 2020 World Series games took place in both Houston Texas (home of the Dodgers) at Minute Maid Park\n"
     ]
    }
   ],
   "source": [
    "from openai import OpenAI\n",
    "\n",
    "client = OpenAI(\n",
    "    base_url = 'http://localhost:11434/v1',\n",
    "    api_key='ollama', # required, but unused\n",
    ")\n",
    "\n",
    "response = client.chat.completions.create(\n",
    "  model=\"llama3.2\",\n",
    "  messages=[\n",
    "    {\"role\": \"system\", \"content\": \"You are a helpful assistant.\"},\n",
    "    {\"role\": \"user\", \"content\": \"Who won the world series in 2020?\"},\n",
    "    {\"role\": \"assistant\", \"content\": \"The LA Dodgers won in 2020.\"},\n",
    "    {\"role\": \"user\", \"content\": \"Where was it played?\"}\n",
    "  ]\n",
    ")\n",
    "print(response.choices[0].message.content)"
   ]
  },
  {
   "cell_type": "code",
   "execution_count": null,
   "id": "7ed2820f-32d5-43c5-b591-9d1b82328f10",
   "metadata": {},
   "outputs": [],
   "source": []
  },
  {
   "cell_type": "code",
   "execution_count": null,
   "id": "d7b508f4-c10f-465b-b8ce-042696f6b095",
   "metadata": {},
   "outputs": [],
   "source": [
    "@dataclasses.dataclass\n",
    "class BaseArgs:\n",
    "\n",
    "    \n",
    "\n",
    "@dataclasses.dataclass\n",
    "class Args:\n",
    "    \"\"\"Args for generate instance for MMLU dataset.\"\"\"\n",
    "\n",
    "    instance_name: str = \"mmlu\"\n",
    "    \"\"\"learning rate\"\"\"\n",
    "\n",
    "    max_its: float = 1e4\n",
    "    \"\"\"maximum number of iterations to run for\"\"\"\n",
    "\n",
    "    grad_threshold: float = 1e-6\n",
    "    \"\"\"terminate if the magnitude of every element of gradient is smaller than grad_threshold\"\"\"\n",
    "\n",
    "    use_feat_norm: bool = True\n",
    "    \"\"\"use feature normalization\"\"\""
   ]
  },
  {
   "cell_type": "code",
   "execution_count": null,
   "id": "24385f57-10d6-4b5b-a916-84a6d7d08b1f",
   "metadata": {},
   "outputs": [],
   "source": []
  },
  {
   "cell_type": "code",
   "execution_count": null,
   "id": "17796c03-2dda-43f1-b4ae-15e2f63cea29",
   "metadata": {},
   "outputs": [],
   "source": []
  }
 ],
 "metadata": {
  "kernelspec": {
   "display_name": "Python 3 (ipykernel)",
   "language": "python",
   "name": "python3"
  },
  "language_info": {
   "codemirror_mode": {
    "name": "ipython",
    "version": 3
   },
   "file_extension": ".py",
   "mimetype": "text/x-python",
   "name": "python",
   "nbconvert_exporter": "python",
   "pygments_lexer": "ipython3",
   "version": "3.10.15"
  }
 },
 "nbformat": 4,
 "nbformat_minor": 5
}
