{
 "cells": [
  {
   "cell_type": "code",
   "execution_count": 3,
   "id": "2090fd27-9366-46e8-bf33-aa355b230f02",
   "metadata": {
    "execution": {
     "iopub.execute_input": "2024-12-14T04:30:40.692730Z",
     "iopub.status.busy": "2024-12-14T04:30:40.692024Z",
     "iopub.status.idle": "2024-12-14T04:30:44.478095Z",
     "shell.execute_reply": "2024-12-14T04:30:44.477815Z",
     "shell.execute_reply.started": "2024-12-14T04:30:40.692650Z"
    }
   },
   "outputs": [
    {
     "name": "stderr",
     "output_type": "stream",
     "text": [
      "flaml.automl is not available. Please install flaml[automl] to enable AutoML functionalities.\n"
     ]
    }
   ],
   "source": [
    "import os\n",
    "from autogen import AssistantAgent, UserProxyAgent"
   ]
  },
  {
   "cell_type": "code",
   "execution_count": null,
   "id": "7c32f456-b5f8-425a-b0e7-b2ade4018329",
   "metadata": {},
   "outputs": [],
   "source": []
  }
 ],
 "metadata": {
  "kernelspec": {
   "display_name": "Python 3 (ipykernel)",
   "language": "python",
   "name": "python3"
  },
  "language_info": {
   "codemirror_mode": {
    "name": "ipython",
    "version": 3
   },
   "file_extension": ".py",
   "mimetype": "text/x-python",
   "name": "python",
   "nbconvert_exporter": "python",
   "pygments_lexer": "ipython3",
   "version": "3.10.15"
  }
 },
 "nbformat": 4,
 "nbformat_minor": 5
}
