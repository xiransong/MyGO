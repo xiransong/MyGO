{
 "cells": [
  {
   "cell_type": "code",
   "execution_count": 1,
   "id": "c397b424-272d-499e-af69-50f35335b5d3",
   "metadata": {
    "execution": {
     "iopub.execute_input": "2024-12-15T17:40:17.271459Z",
     "iopub.status.busy": "2024-12-15T17:40:17.271093Z",
     "iopub.status.idle": "2024-12-15T17:40:17.278644Z",
     "shell.execute_reply": "2024-12-15T17:40:17.278189Z",
     "shell.execute_reply.started": "2024-12-15T17:40:17.271431Z"
    }
   },
   "outputs": [],
   "source": [
    "import os.path as osp\n",
    "\n",
    "project_root = \"/Users/xiransong/Code/MyTeam_Project/\"\n",
    "all_data_root = osp.join(project_root, \"data\")"
   ]
  },
  {
   "cell_type": "code",
   "execution_count": 2,
   "id": "afebf86b-3a14-403f-b8be-fed753144699",
   "metadata": {
    "execution": {
     "iopub.execute_input": "2024-12-15T17:40:17.281605Z",
     "iopub.status.busy": "2024-12-15T17:40:17.281441Z",
     "iopub.status.idle": "2024-12-15T17:40:17.287271Z",
     "shell.execute_reply": "2024-12-15T17:40:17.286908Z",
     "shell.execute_reply.started": "2024-12-15T17:40:17.281585Z"
    }
   },
   "outputs": [],
   "source": [
    "from MyTeam.utils import ensure_dir"
   ]
  },
  {
   "cell_type": "code",
   "execution_count": 3,
   "id": "db85ccf1-a329-4a64-a16b-5d2d86c6d5bd",
   "metadata": {
    "execution": {
     "iopub.execute_input": "2024-12-15T17:40:18.353863Z",
     "iopub.status.busy": "2024-12-15T17:40:18.353185Z",
     "iopub.status.idle": "2024-12-15T17:40:18.792489Z",
     "shell.execute_reply": "2024-12-15T17:40:18.792163Z",
     "shell.execute_reply.started": "2024-12-15T17:40:18.353813Z"
    }
   },
   "outputs": [],
   "source": [
    "import numpy as np\n",
    "import pandas as pd"
   ]
  },
  {
   "cell_type": "code",
   "execution_count": 4,
   "id": "f24ac274-04f8-41f3-9e66-919be8fd05ed",
   "metadata": {
    "execution": {
     "iopub.execute_input": "2024-12-15T17:40:20.358178Z",
     "iopub.status.busy": "2024-12-15T17:40:20.357240Z",
     "iopub.status.idle": "2024-12-15T17:40:22.925324Z",
     "shell.execute_reply": "2024-12-15T17:40:22.924614Z",
     "shell.execute_reply.started": "2024-12-15T17:40:20.358122Z"
    }
   },
   "outputs": [
    {
     "name": "stdout",
     "output_type": "stream",
     "text": [
      "The 2020 World Series was unique due to the COVID-19 pandemic. Instead of a traditional host city, games were split between home fields for both teams and were held in different locations. The Dodgers played Games 1, 4, 5, 7, 9, & 11 at Dodger Stadium (their home) in Los Angeles, California.\n",
      "\n",
      "The Tampa Bay Rays played Games 2, 3, 6, 8, and 10 at Tropicana Field in St. Petersburg, Florida\n"
     ]
    }
   ],
   "source": [
    "from openai import OpenAI\n",
    "\n",
    "client = OpenAI(\n",
    "    base_url = 'http://localhost:11434/v1',\n",
    "    api_key='ollama', # required, but unused\n",
    ")\n",
    "\n",
    "response = client.chat.completions.create(\n",
    "  model=\"llama3.2\",\n",
    "  messages=[\n",
    "    {\"role\": \"system\", \"content\": \"You are a helpful assistant.\"},\n",
    "    {\"role\": \"user\", \"content\": \"Who won the world series in 2020?\"},\n",
    "    {\"role\": \"assistant\", \"content\": \"The LA Dodgers won in 2020.\"},\n",
    "    {\"role\": \"user\", \"content\": \"Where was it played?\"}\n",
    "  ]\n",
    ")\n",
    "print(response.choices[0].message.content)"
   ]
  },
  {
   "cell_type": "code",
   "execution_count": null,
   "id": "0cad3c17-2282-4ff0-9632-1892b43fc59a",
   "metadata": {},
   "outputs": [],
   "source": []
  },
  {
   "cell_type": "code",
   "execution_count": null,
   "id": "2a26d16b-8342-449f-8871-e163e754e662",
   "metadata": {},
   "outputs": [],
   "source": []
  },
  {
   "cell_type": "code",
   "execution_count": 43,
   "id": "2773279a-7129-402a-a814-1a85c7caba76",
   "metadata": {
    "execution": {
     "iopub.execute_input": "2024-12-15T06:07:36.911692Z",
     "iopub.status.busy": "2024-12-15T06:07:36.911178Z",
     "iopub.status.idle": "2024-12-15T06:07:36.941986Z",
     "shell.execute_reply": "2024-12-15T06:07:36.941259Z",
     "shell.execute_reply.started": "2024-12-15T06:07:36.911657Z"
    }
   },
   "outputs": [
    {
     "ename": "AttributeError",
     "evalue": "'Index' object has no attribute 'clone'",
     "output_type": "error",
     "traceback": [
      "\u001b[0;31m---------------------------------------------------------------------------\u001b[0m",
      "\u001b[0;31mAttributeError\u001b[0m                            Traceback (most recent call last)",
      "Cell \u001b[0;32mIn[43], line 1\u001b[0m\n\u001b[0;32m----> 1\u001b[0m idx \u001b[38;5;241m=\u001b[39m \u001b[43mdf2\u001b[49m\u001b[38;5;241;43m.\u001b[39;49m\u001b[43mindex\u001b[49m\u001b[38;5;241;43m.\u001b[39;49m\u001b[43mclone\u001b[49m\u001b[38;5;241m.\u001b[39mto_numpy()\n\u001b[1;32m      2\u001b[0m idx\n",
      "\u001b[0;31mAttributeError\u001b[0m: 'Index' object has no attribute 'clone'"
     ]
    }
   ],
   "source": [
    "df2.loc[df]"
   ]
  },
  {
   "cell_type": "code",
   "execution_count": null,
   "id": "a39115c2-09c5-4897-bfcb-e26721195d17",
   "metadata": {},
   "outputs": [],
   "source": []
  },
  {
   "cell_type": "code",
   "execution_count": null,
   "id": "ecae475d-7e19-41b0-8954-6ef1532c5a02",
   "metadata": {},
   "outputs": [],
   "source": []
  },
  {
   "cell_type": "code",
   "execution_count": null,
   "id": "5389d581-6dfa-43b7-8284-e6bee1194191",
   "metadata": {},
   "outputs": [],
   "source": []
  },
  {
   "cell_type": "code",
   "execution_count": 28,
   "id": "4908cf96-7001-4009-9e90-f69a8e88c8bd",
   "metadata": {
    "execution": {
     "iopub.execute_input": "2024-12-15T05:46:12.247761Z",
     "iopub.status.busy": "2024-12-15T05:46:12.247072Z",
     "iopub.status.idle": "2024-12-15T05:46:12.255394Z",
     "shell.execute_reply": "2024-12-15T05:46:12.254428Z",
     "shell.execute_reply.started": "2024-12-15T05:46:12.247706Z"
    }
   },
   "outputs": [
    {
     "data": {
      "text/plain": [
       "array(['abstract_algebra', 'anatomy', 'astronomy', 'business_ethics',\n",
       "       'clinical_knowledge', 'college_biology', 'college_chemistry',\n",
       "       'college_computer_science', 'college_mathematics',\n",
       "       'college_medicine', 'college_physics', 'computer_security',\n",
       "       'conceptual_physics', 'econometrics', 'electrical_engineering',\n",
       "       'elementary_mathematics', 'formal_logic', 'global_facts',\n",
       "       'high_school_biology', 'high_school_chemistry',\n",
       "       'high_school_computer_science', 'high_school_european_history',\n",
       "       'high_school_geography', 'high_school_government_and_politics',\n",
       "       'high_school_macroeconomics', 'high_school_mathematics',\n",
       "       'high_school_microeconomics', 'high_school_physics',\n",
       "       'high_school_psychology', 'high_school_statistics',\n",
       "       'high_school_us_history', 'high_school_world_history',\n",
       "       'human_aging', 'human_sexuality', 'international_law',\n",
       "       'jurisprudence', 'logical_fallacies', 'machine_learning',\n",
       "       'management', 'marketing', 'medical_genetics', 'miscellaneous',\n",
       "       'moral_disputes', 'moral_scenarios', 'nutrition', 'philosophy',\n",
       "       'prehistory', 'professional_accounting', 'professional_law',\n",
       "       'professional_medicine', 'professional_psychology',\n",
       "       'public_relations', 'security_studies', 'sociology',\n",
       "       'us_foreign_policy', 'virology', 'world_religions'], dtype=object)"
      ]
     },
     "execution_count": 28,
     "metadata": {},
     "output_type": "execute_result"
    }
   ],
   "source": [
    "df['subject'].unique()"
   ]
  },
  {
   "cell_type": "code",
   "execution_count": 23,
   "id": "1201e165-2173-4759-93a1-6be8149d025e",
   "metadata": {
    "execution": {
     "iopub.execute_input": "2024-12-15T05:14:31.457725Z",
     "iopub.status.busy": "2024-12-15T05:14:31.457058Z",
     "iopub.status.idle": "2024-12-15T05:14:31.465967Z",
     "shell.execute_reply": "2024-12-15T05:14:31.464634Z",
     "shell.execute_reply.started": "2024-12-15T05:14:31.457680Z"
    }
   },
   "outputs": [
    {
     "data": {
      "text/plain": [
       "False"
      ]
     },
     "execution_count": 23,
     "metadata": {},
     "output_type": "execute_result"
    }
   ],
   "source": [
    "'a' in df['subject'].unique()"
   ]
  },
  {
   "cell_type": "code",
   "execution_count": null,
   "id": "27d1c7f4-ec0a-47a7-9ff0-f571a6515eb9",
   "metadata": {},
   "outputs": [],
   "source": []
  },
  {
   "cell_type": "code",
   "execution_count": null,
   "id": "8064bf3a-c203-475b-a3b9-238338f76613",
   "metadata": {},
   "outputs": [],
   "source": []
  },
  {
   "cell_type": "code",
   "execution_count": 4,
   "id": "2090fd27-9366-46e8-bf33-aa355b230f02",
   "metadata": {
    "execution": {
     "iopub.execute_input": "2024-12-14T23:44:23.901664Z",
     "iopub.status.busy": "2024-12-14T23:44:23.901120Z",
     "iopub.status.idle": "2024-12-14T23:44:24.550288Z",
     "shell.execute_reply": "2024-12-14T23:44:24.547388Z",
     "shell.execute_reply.started": "2024-12-14T23:44:23.901625Z"
    }
   },
   "outputs": [
    {
     "name": "stderr",
     "output_type": "stream",
     "text": [
      "flaml.automl is not available. Please install flaml[automl] to enable AutoML functionalities.\n"
     ]
    }
   ],
   "source": [
    "import os\n",
    "from autogen import AssistantAgent, UserProxyAgent"
   ]
  },
  {
   "cell_type": "code",
   "execution_count": 8,
   "id": "bcf1db7a-cfd5-4a67-93f4-f6fe6a25f0ed",
   "metadata": {
    "execution": {
     "iopub.execute_input": "2024-12-14T23:47:51.452416Z",
     "iopub.status.busy": "2024-12-14T23:47:51.451699Z",
     "iopub.status.idle": "2024-12-14T23:47:51.457400Z",
     "shell.execute_reply": "2024-12-14T23:47:51.456424Z",
     "shell.execute_reply.started": "2024-12-14T23:47:51.452366Z"
    }
   },
   "outputs": [],
   "source": [
    "from datasets import load_dataset\n",
    "import pprint"
   ]
  },
  {
   "cell_type": "code",
   "execution_count": null,
   "id": "3f62982a-1484-4b3f-b99c-6a53821070f5",
   "metadata": {},
   "outputs": [],
   "source": []
  },
  {
   "cell_type": "code",
   "execution_count": 2,
   "id": "7c32f456-b5f8-425a-b0e7-b2ade4018329",
   "metadata": {
    "execution": {
     "iopub.execute_input": "2024-12-14T16:26:28.964520Z",
     "iopub.status.busy": "2024-12-14T16:26:28.963555Z",
     "iopub.status.idle": "2024-12-14T16:26:34.201830Z",
     "shell.execute_reply": "2024-12-14T16:26:34.200871Z",
     "shell.execute_reply.started": "2024-12-14T16:26:28.964458Z"
    }
   },
   "outputs": [
    {
     "name": "stdout",
     "output_type": "stream",
     "text": [
      "Since the 2020 World Series involved teams that were both based on the West coast, and did not require an open-air venue, neither team had a home-venue restriction; I am assuming you are asking where the games took place.\n",
      "\n",
      "The 2020 World Series games took place in both Houston Texas (home of the Dodgers) at Minute Maid Park\n"
     ]
    }
   ],
   "source": [
    "from openai import OpenAI\n",
    "\n",
    "client = OpenAI(\n",
    "    base_url = 'http://localhost:11434/v1',\n",
    "    api_key='ollama', # required, but unused\n",
    ")\n",
    "\n",
    "response = client.chat.completions.create(\n",
    "  model=\"llama3.2\",\n",
    "  messages=[\n",
    "    {\"role\": \"system\", \"content\": \"You are a helpful assistant.\"},\n",
    "    {\"role\": \"user\", \"content\": \"Who won the world series in 2020?\"},\n",
    "    {\"role\": \"assistant\", \"content\": \"The LA Dodgers won in 2020.\"},\n",
    "    {\"role\": \"user\", \"content\": \"Where was it played?\"}\n",
    "  ]\n",
    ")\n",
    "print(response.choices[0].message.content)"
   ]
  },
  {
   "cell_type": "code",
   "execution_count": null,
   "id": "7ed2820f-32d5-43c5-b591-9d1b82328f10",
   "metadata": {},
   "outputs": [],
   "source": []
  },
  {
   "cell_type": "code",
   "execution_count": null,
   "id": "0db0b09c-7e06-43f0-b332-981e79e6d779",
   "metadata": {},
   "outputs": [],
   "source": []
  }
 ],
 "metadata": {
  "kernelspec": {
   "display_name": "Python 3 (ipykernel)",
   "language": "python",
   "name": "python3"
  },
  "language_info": {
   "codemirror_mode": {
    "name": "ipython",
    "version": 3
   },
   "file_extension": ".py",
   "mimetype": "text/x-python",
   "name": "python",
   "nbconvert_exporter": "python",
   "pygments_lexer": "ipython3",
   "version": "3.10.15"
  }
 },
 "nbformat": 4,
 "nbformat_minor": 5
}
